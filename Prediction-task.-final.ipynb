{
 "cells": [
  {
   "cell_type": "markdown",
   "id": "30cce772",
   "metadata": {},
   "source": [
    "# Name : Sai Sacherith Reddy Thoodi"
   ]
  },
  {
   "cell_type": "markdown",
   "id": "af2d586a",
   "metadata": {},
   "source": [
    "# Task 1 - Prediction using Supervised Machine learning"
   ]
  },
  {
   "cell_type": "markdown",
   "id": "5cf459c4",
   "metadata": {},
   "source": [
    "## GRIP @ THE SPARKS FOUNDATION"
   ]
  },
  {
   "cell_type": "markdown",
   "id": "a1a48d61",
   "metadata": {},
   "source": [
    "# Problem Statement - Predict the Percentage of student based on number of hours studied"
   ]
  },
  {
   "cell_type": "markdown",
   "id": "551008d9",
   "metadata": {},
   "source": [
    "### **In this task, Using Linear Regression we will predict the percentage scored by students based on the number of hours they studied.**"
   ]
  },
  {
   "cell_type": "markdown",
   "id": "94f942d4",
   "metadata": {},
   "source": [
    "## Importing all the required libraries"
   ]
  },
  {
   "cell_type": "code",
   "execution_count": 1,
   "id": "07b5498c",
   "metadata": {},
   "outputs": [],
   "source": [
    "import pandas as pd\n",
    "import numpy as np\n",
    "import matplotlib.pyplot as plt\n",
    "from sklearn import linear_model\n",
    "from sklearn import metrics\n",
    "from sklearn.metrics import mean_squared_error\n",
    "from sklearn.metrics import mean_absolute_error"
   ]
  },
  {
   "cell_type": "markdown",
   "id": "a834e95c",
   "metadata": {},
   "source": [
    "*Fetching and displaying the data from csv file*"
   ]
  },
  {
   "cell_type": "code",
   "execution_count": 2,
   "id": "fbb607e0",
   "metadata": {},
   "outputs": [
    {
     "name": "stdout",
     "output_type": "stream",
     "text": [
      "Data imported successfully\n"
     ]
    },
    {
     "data": {
      "text/html": [
       "<div>\n",
       "<style scoped>\n",
       "    .dataframe tbody tr th:only-of-type {\n",
       "        vertical-align: middle;\n",
       "    }\n",
       "\n",
       "    .dataframe tbody tr th {\n",
       "        vertical-align: top;\n",
       "    }\n",
       "\n",
       "    .dataframe thead th {\n",
       "        text-align: right;\n",
       "    }\n",
       "</style>\n",
       "<table border=\"1\" class=\"dataframe\">\n",
       "  <thead>\n",
       "    <tr style=\"text-align: right;\">\n",
       "      <th></th>\n",
       "      <th>Hours</th>\n",
       "      <th>Scores</th>\n",
       "    </tr>\n",
       "  </thead>\n",
       "  <tbody>\n",
       "    <tr>\n",
       "      <th>0</th>\n",
       "      <td>2.5</td>\n",
       "      <td>21</td>\n",
       "    </tr>\n",
       "    <tr>\n",
       "      <th>1</th>\n",
       "      <td>5.1</td>\n",
       "      <td>47</td>\n",
       "    </tr>\n",
       "    <tr>\n",
       "      <th>2</th>\n",
       "      <td>3.2</td>\n",
       "      <td>27</td>\n",
       "    </tr>\n",
       "    <tr>\n",
       "      <th>3</th>\n",
       "      <td>8.5</td>\n",
       "      <td>75</td>\n",
       "    </tr>\n",
       "    <tr>\n",
       "      <th>4</th>\n",
       "      <td>3.5</td>\n",
       "      <td>30</td>\n",
       "    </tr>\n",
       "    <tr>\n",
       "      <th>5</th>\n",
       "      <td>1.5</td>\n",
       "      <td>20</td>\n",
       "    </tr>\n",
       "    <tr>\n",
       "      <th>6</th>\n",
       "      <td>9.2</td>\n",
       "      <td>88</td>\n",
       "    </tr>\n",
       "    <tr>\n",
       "      <th>7</th>\n",
       "      <td>5.5</td>\n",
       "      <td>60</td>\n",
       "    </tr>\n",
       "    <tr>\n",
       "      <th>8</th>\n",
       "      <td>8.3</td>\n",
       "      <td>81</td>\n",
       "    </tr>\n",
       "    <tr>\n",
       "      <th>9</th>\n",
       "      <td>2.7</td>\n",
       "      <td>25</td>\n",
       "    </tr>\n",
       "  </tbody>\n",
       "</table>\n",
       "</div>"
      ],
      "text/plain": [
       "   Hours  Scores\n",
       "0    2.5      21\n",
       "1    5.1      47\n",
       "2    3.2      27\n",
       "3    8.5      75\n",
       "4    3.5      30\n",
       "5    1.5      20\n",
       "6    9.2      88\n",
       "7    5.5      60\n",
       "8    8.3      81\n",
       "9    2.7      25"
      ]
     },
     "execution_count": 2,
     "metadata": {},
     "output_type": "execute_result"
    }
   ],
   "source": [
    "link=\"https://raw.githubusercontent.com/AdiPersonalWorks/Random/master/student_scores%20-%20student_scores.csv\"\n",
    "hs_data=pd.read_csv(link)\n",
    "print(\"Data imported successfully\")\n",
    "hs_data.columns\n",
    "hs_data.head(10)"
   ]
  },
  {
   "cell_type": "markdown",
   "id": "f846f8bb",
   "metadata": {},
   "source": [
    "## Visualizing the given data"
   ]
  },
  {
   "cell_type": "markdown",
   "id": "6384e1ce",
   "metadata": {},
   "source": [
    "**Denoting the data in scatter plot**"
   ]
  },
  {
   "cell_type": "code",
   "execution_count": 3,
   "id": "78c76c9a",
   "metadata": {},
   "outputs": [
    {
     "data": {
      "image/png": "[encoded data removed]",
      "text/plain": [
       "<Figure size 1080x360 with 1 Axes>"
      ]
     },
     "metadata": {
      "needs_background": "light"
     },
     "output_type": "display_data"
    }
   ],
   "source": [
    "%matplotlib inline\n",
    "plt.title('Number of Hours Studied vs Percentage')\n",
    "plt.xlabel('Number of Hours Studied')\n",
    "plt.ylabel('Percentage(Scores)')\n",
    "plt.scatter(hs_data.Hours,hs_data.Scores,color=\"red\")\n",
    "plt.gcf().set_size_inches((15, 5))\n",
    "plt.show()"
   ]
  },
  {
   "cell_type": "markdown",
   "id": "2d206e41",
   "metadata": {},
   "source": [
    "**From the graph above, we can clearly see that there is a positive linear relation between the number of hours studied and percentage of score.**"
   ]
  },
  {
   "cell_type": "markdown",
   "id": "67e00f90",
   "metadata": {},
   "source": [
    "## Preparing the data"
   ]
  },
  {
   "cell_type": "markdown",
   "id": "9ff5fbb7",
   "metadata": {},
   "source": [
    "**The next step is to divide the data into \"attributes\" (inputs) and \"labels\" (outputs).**"
   ]
  },
  {
   "cell_type": "code",
   "execution_count": 4,
   "id": "cb3abdf8",
   "metadata": {},
   "outputs": [
    {
     "name": "stdout",
     "output_type": "stream",
     "text": [
      "[[2.5]\n",
      " [5.1]\n",
      " [3.2]\n",
      " [8.5]\n",
      " [3.5]\n",
      " [1.5]\n",
      " [9.2]\n",
      " [5.5]\n",
      " [8.3]\n",
      " [2.7]\n",
      " [7.7]\n",
      " [5.9]\n",
      " [4.5]\n",
      " [3.3]\n",
      " [1.1]\n",
      " [8.9]\n",
      " [2.5]\n",
      " [1.9]\n",
      " [6.1]\n",
      " [7.4]\n",
      " [2.7]\n",
      " [4.8]\n",
      " [3.8]\n",
      " [6.9]\n",
      " [7.8]] [21 47 27 75 30 20 88 60 81 25 85 62 41 42 17 95 30 24 67 69 30 54 35 76\n",
      " 86]\n"
     ]
    }
   ],
   "source": [
    "X = hs_data.iloc[:, :-1].values  \n",
    "y = hs_data.iloc[:, 1].values\n",
    "print(X,y)"
   ]
  },
  {
   "cell_type": "markdown",
   "id": "ad79c445",
   "metadata": {},
   "source": [
    "**Splitting above Data into train and test datasets**"
   ]
  },
  {
   "cell_type": "code",
   "execution_count": 5,
   "id": "46ff3e28",
   "metadata": {},
   "outputs": [],
   "source": [
    "from sklearn.model_selection import train_test_split\n",
    "X_train, X_test, y_train, y_test = train_test_split(X,y, train_size = 0.80, test_size = 0.2, random_state = 0) "
   ]
  },
  {
   "cell_type": "markdown",
   "id": "80a31d2d",
   "metadata": {},
   "source": [
    "## Training the algorithm"
   ]
  },
  {
   "cell_type": "code",
   "execution_count": 6,
   "id": "2390d25a",
   "metadata": {},
   "outputs": [
    {
     "name": "stdout",
     "output_type": "stream",
     "text": [
      "Training complete.\n"
     ]
    }
   ],
   "source": [
    "reg=linear_model.LinearRegression()  \n",
    "reg.fit(X_train, y_train) \n",
    "print(\"Training complete.\")"
   ]
  },
  {
   "cell_type": "markdown",
   "id": "21f5e3ea",
   "metadata": {},
   "source": [
    "## Plotting the Line of regression and data points"
   ]
  },
  {
   "cell_type": "code",
   "execution_count": 7,
   "id": "d22f9201",
   "metadata": {},
   "outputs": [
    {
     "data": {
      "image/png": "[encoded data removed]",
      "text/plain": [
       "<Figure size 1080x360 with 1 Axes>"
      ]
     },
     "metadata": {
      "needs_background": "light"
     },
     "output_type": "display_data"
    }
   ],
   "source": [
    "%matplotlib inline\n",
    "plt.title('Number of Hours Studied vs Percentage')\n",
    "plt.xlabel('Number of Hours Studied')\n",
    "plt.ylabel('Percentage(Scores)')\n",
    "plt.scatter(hs_data.Hours,hs_data.Scores,color=\"red\")\n",
    "plt.plot(hs_data.Hours,reg.predict(hs_data[['Hours']]))\n",
    "plt.gcf().set_size_inches((15, 5))\n",
    "plt.show()"
   ]
  },
  {
   "cell_type": "markdown",
   "id": "363c3da4",
   "metadata": {},
   "source": [
    "## Making Prediction"
   ]
  },
  {
   "cell_type": "markdown",
   "id": "6bd2ae19",
   "metadata": {},
   "source": [
    "**This will predict the score using X_test data**"
   ]
  },
  {
   "cell_type": "code",
   "execution_count": 8,
   "id": "a7462ff0",
   "metadata": {},
   "outputs": [],
   "source": [
    "y_pred = reg.predict(X_test)"
   ]
  },
  {
   "cell_type": "markdown",
   "id": "08d6b31e",
   "metadata": {},
   "source": [
    "**Comparing Actual and Predicted values**"
   ]
  },
  {
   "cell_type": "code",
   "execution_count": 9,
   "id": "acc6fef4",
   "metadata": {},
   "outputs": [
    {
     "data": {
      "text/html": [
       "<div>\n",
       "<style scoped>\n",
       "    .dataframe tbody tr th:only-of-type {\n",
       "        vertical-align: middle;\n",
       "    }\n",
       "\n",
       "    .dataframe tbody tr th {\n",
       "        vertical-align: top;\n",
       "    }\n",
       "\n",
       "    .dataframe thead th {\n",
       "        text-align: right;\n",
       "    }\n",
       "</style>\n",
       "<table border=\"1\" class=\"dataframe\">\n",
       "  <thead>\n",
       "    <tr style=\"text-align: right;\">\n",
       "      <th></th>\n",
       "      <th>Actual</th>\n",
       "      <th>Predicted</th>\n",
       "    </tr>\n",
       "  </thead>\n",
       "  <tbody>\n",
       "    <tr>\n",
       "      <th>0</th>\n",
       "      <td>20</td>\n",
       "      <td>16.884145</td>\n",
       "    </tr>\n",
       "    <tr>\n",
       "      <th>1</th>\n",
       "      <td>27</td>\n",
       "      <td>33.732261</td>\n",
       "    </tr>\n",
       "    <tr>\n",
       "      <th>2</th>\n",
       "      <td>69</td>\n",
       "      <td>75.357018</td>\n",
       "    </tr>\n",
       "    <tr>\n",
       "      <th>3</th>\n",
       "      <td>30</td>\n",
       "      <td>26.794801</td>\n",
       "    </tr>\n",
       "    <tr>\n",
       "      <th>4</th>\n",
       "      <td>62</td>\n",
       "      <td>60.491033</td>\n",
       "    </tr>\n",
       "  </tbody>\n",
       "</table>\n",
       "</div>"
      ],
      "text/plain": [
       "   Actual  Predicted\n",
       "0      20  16.884145\n",
       "1      27  33.732261\n",
       "2      69  75.357018\n",
       "3      30  26.794801\n",
       "4      62  60.491033"
      ]
     },
     "execution_count": 9,
     "metadata": {},
     "output_type": "execute_result"
    }
   ],
   "source": [
    "data = pd.DataFrame({'Actual': y_test, 'Predicted': y_pred})  \n",
    "data"
   ]
  },
  {
   "cell_type": "code",
   "execution_count": 10,
   "id": "ef7de6db",
   "metadata": {},
   "outputs": [
    {
     "data": {
      "image/png": "[encoded data removed]",
      "text/plain": [
       "<Figure size 720x360 with 1 Axes>"
      ]
     },
     "metadata": {
      "needs_background": "light"
     },
     "output_type": "display_data"
    }
   ],
   "source": [
    "data.plot(kind='bar')\n",
    "plt.gcf().set_size_inches((10, 5))\n",
    "plt.show()"
   ]
  },
  {
   "cell_type": "markdown",
   "id": "bda43a2f",
   "metadata": {},
   "source": [
    "**Checking the accuracy score of Linear regression model**"
   ]
  },
  {
   "cell_type": "code",
   "execution_count": 11,
   "id": "d5d858f8",
   "metadata": {},
   "outputs": [
    {
     "name": "stdout",
     "output_type": "stream",
     "text": [
      "Test Score =  0.9454906892105355\n",
      "Train Score =  0.9515510725211552\n"
     ]
    }
   ],
   "source": [
    "print(\"Test Score = \",reg.score(X_test, y_test))\n",
    "print(\"Train Score = \",reg.score(X_train, y_train))"
   ]
  },
  {
   "cell_type": "markdown",
   "id": "2b5a8a75",
   "metadata": {},
   "source": [
    "## Predicting the score for number of hours=9.25"
   ]
  },
  {
   "cell_type": "code",
   "execution_count": 12,
   "id": "18298a70",
   "metadata": {},
   "outputs": [
    {
     "name": "stdout",
     "output_type": "stream",
     "text": [
      "Score = 93.69173248737535\n"
     ]
    }
   ],
   "source": [
    "sco=reg.predict([[9.25]])\n",
    "val=float(np.asarray(sco))\n",
    "print(\"Score = {}\".format(val))"
   ]
  },
  {
   "cell_type": "markdown",
   "id": "f7549130",
   "metadata": {},
   "source": [
    "## Evaluating the model"
   ]
  },
  {
   "cell_type": "code",
   "execution_count": 13,
   "id": "117e32e1",
   "metadata": {
    "scrolled": true
   },
   "outputs": [
    {
     "name": "stdout",
     "output_type": "stream",
     "text": [
      "Mean Absolute Error: 4.183859899002975\n",
      "Mean Squared Error:  21.598769307217406\n"
     ]
    }
   ],
   "source": [
    "print('Mean Absolute Error:', metrics.mean_absolute_error(y_test, y_pred)) \n",
    "print('Mean Squared Error: ',mean_squared_error(y_test, (y_pred)))"
   ]
  },
  {
   "cell_type": "markdown",
   "id": "db36c358",
   "metadata": {},
   "source": [
    "# Conclusion\n",
    "## Predicted the percentage of a student based on the number of hours studied using linear regression.\n",
    "# Sample Result\n",
    "## And the predicted score is 93.69 if number of hours studied = 9.25"
   ]
  }
 ],
 "metadata": {
  "kernelspec": {
   "display_name": "Python 3",
   "language": "python",
   "name": "python3"
  },
  "language_info": {
   "codemirror_mode": {
    "name": "ipython",
    "version": 3
   },
   "file_extension": ".py",
   "mimetype": "text/x-python",
   "name": "python",
   "nbconvert_exporter": "python",
   "pygments_lexer": "ipython3",
   "version": "3.6.2"
  }
 },
 "nbformat": 4,
 "nbformat_minor": 5
}
